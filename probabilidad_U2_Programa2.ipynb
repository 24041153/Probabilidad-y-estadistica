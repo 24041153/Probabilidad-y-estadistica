{
  "nbformat": 4,
  "nbformat_minor": 0,
  "metadata": {
    "colab": {
      "provenance": [],
      "authorship_tag": "ABX9TyPrq7HQE6x6oQFFDjjgaX9w",
      "include_colab_link": true
    },
    "kernelspec": {
      "name": "python3",
      "display_name": "Python 3"
    },
    "language_info": {
      "name": "python"
    }
  },
  "cells": [
    {
      "cell_type": "markdown",
      "metadata": {
        "id": "view-in-github",
        "colab_type": "text"
      },
      "source": [
        "<a href=\"https://colab.research.google.com/github/24041153/Probabilidad-y-estadistica/blob/main/probabilidad_U2_Programa2.ipynb\" target=\"_parent\"><img src=\"https://colab.research.google.com/assets/colab-badge.svg\" alt=\"Open In Colab\"/></a>"
      ]
    },
    {
      "cell_type": "code",
      "execution_count": 1,
      "metadata": {
        "id": "f8hDIZyfGJEy"
      },
      "outputs": [],
      "source": [
        "import math as mt\n",
        "from itertools import permutations\n",
        "from itertools import product\n",
        "import numpy as np"
      ]
    },
    {
      "cell_type": "code",
      "source": [
        "mt.factorial(7)"
      ],
      "metadata": {
        "colab": {
          "base_uri": "https://localhost:8080/"
        },
        "id": "q5axQfKAGm-A",
        "outputId": "0b784422-7787-426a-8969-19951a2d406c"
      },
      "execution_count": 3,
      "outputs": [
        {
          "output_type": "execute_result",
          "data": {
            "text/plain": [
              "5040"
            ]
          },
          "metadata": {},
          "execution_count": 3
        }
      ]
    },
    {
      "cell_type": "code",
      "source": [
        "mt.factorial(4)"
      ],
      "metadata": {
        "colab": {
          "base_uri": "https://localhost:8080/"
        },
        "id": "y2RYClt0Grlp",
        "outputId": "d89f3938-4740-4a58-e563-7d8ad345f6e6"
      },
      "execution_count": 4,
      "outputs": [
        {
          "output_type": "execute_result",
          "data": {
            "text/plain": [
              "24"
            ]
          },
          "metadata": {},
          "execution_count": 4
        }
      ]
    },
    {
      "cell_type": "code",
      "source": [
        "5040/24"
      ],
      "metadata": {
        "colab": {
          "base_uri": "https://localhost:8080/"
        },
        "id": "CAK11DgwGwpn",
        "outputId": "611354e1-aa10-4ffe-b1f9-538df3a6d177"
      },
      "execution_count": 5,
      "outputs": [
        {
          "output_type": "execute_result",
          "data": {
            "text/plain": [
              "210.0"
            ]
          },
          "metadata": {},
          "execution_count": 5
        }
      ]
    },
    {
      "cell_type": "code",
      "source": [
        "nombres = {\"A\", \"B\",\"C\", \"D\",\"E\", \"F\", \"G\", }\n",
        "n = len(nombres)\n",
        "r = 3\n",
        "\n",
        "Pr = mt.factorial(n) / (mt.factorial(n-r))\n",
        "print(\"Existen\", Pr, \"posibles permutaciones sin repeticion del total de\",\n",
        "       n , \" nombres \", \"en grupos de \", r, \"en\" , r)\n",
        "\n",
        "print(\"Aqui las permutaciones\")\n",
        "permutaciones_nombres = list(permutations(nombres, r))\n",
        "\n",
        "for permutacion in permutaciones_nombres:\n",
        "  print(permutacion)"
      ],
      "metadata": {
        "colab": {
          "base_uri": "https://localhost:8080/"
        },
        "id": "I3B78vx-HJxp",
        "outputId": "de383762-2839-47cf-b04e-e9aaff174727"
      },
      "execution_count": 6,
      "outputs": [
        {
          "output_type": "stream",
          "name": "stdout",
          "text": [
            "Existen 210.0 posibles permutaciones sin repeticion del total de 7  nombres  en grupos de  3 en 3\n",
            "Aqui las permutaciones\n",
            "('G', 'B', 'F')\n",
            "('G', 'B', 'A')\n",
            "('G', 'B', 'E')\n",
            "('G', 'B', 'C')\n",
            "('G', 'B', 'D')\n",
            "('G', 'F', 'B')\n",
            "('G', 'F', 'A')\n",
            "('G', 'F', 'E')\n",
            "('G', 'F', 'C')\n",
            "('G', 'F', 'D')\n",
            "('G', 'A', 'B')\n",
            "('G', 'A', 'F')\n",
            "('G', 'A', 'E')\n",
            "('G', 'A', 'C')\n",
            "('G', 'A', 'D')\n",
            "('G', 'E', 'B')\n",
            "('G', 'E', 'F')\n",
            "('G', 'E', 'A')\n",
            "('G', 'E', 'C')\n",
            "('G', 'E', 'D')\n",
            "('G', 'C', 'B')\n",
            "('G', 'C', 'F')\n",
            "('G', 'C', 'A')\n",
            "('G', 'C', 'E')\n",
            "('G', 'C', 'D')\n",
            "('G', 'D', 'B')\n",
            "('G', 'D', 'F')\n",
            "('G', 'D', 'A')\n",
            "('G', 'D', 'E')\n",
            "('G', 'D', 'C')\n",
            "('B', 'G', 'F')\n",
            "('B', 'G', 'A')\n",
            "('B', 'G', 'E')\n",
            "('B', 'G', 'C')\n",
            "('B', 'G', 'D')\n",
            "('B', 'F', 'G')\n",
            "('B', 'F', 'A')\n",
            "('B', 'F', 'E')\n",
            "('B', 'F', 'C')\n",
            "('B', 'F', 'D')\n",
            "('B', 'A', 'G')\n",
            "('B', 'A', 'F')\n",
            "('B', 'A', 'E')\n",
            "('B', 'A', 'C')\n",
            "('B', 'A', 'D')\n",
            "('B', 'E', 'G')\n",
            "('B', 'E', 'F')\n",
            "('B', 'E', 'A')\n",
            "('B', 'E', 'C')\n",
            "('B', 'E', 'D')\n",
            "('B', 'C', 'G')\n",
            "('B', 'C', 'F')\n",
            "('B', 'C', 'A')\n",
            "('B', 'C', 'E')\n",
            "('B', 'C', 'D')\n",
            "('B', 'D', 'G')\n",
            "('B', 'D', 'F')\n",
            "('B', 'D', 'A')\n",
            "('B', 'D', 'E')\n",
            "('B', 'D', 'C')\n",
            "('F', 'G', 'B')\n",
            "('F', 'G', 'A')\n",
            "('F', 'G', 'E')\n",
            "('F', 'G', 'C')\n",
            "('F', 'G', 'D')\n",
            "('F', 'B', 'G')\n",
            "('F', 'B', 'A')\n",
            "('F', 'B', 'E')\n",
            "('F', 'B', 'C')\n",
            "('F', 'B', 'D')\n",
            "('F', 'A', 'G')\n",
            "('F', 'A', 'B')\n",
            "('F', 'A', 'E')\n",
            "('F', 'A', 'C')\n",
            "('F', 'A', 'D')\n",
            "('F', 'E', 'G')\n",
            "('F', 'E', 'B')\n",
            "('F', 'E', 'A')\n",
            "('F', 'E', 'C')\n",
            "('F', 'E', 'D')\n",
            "('F', 'C', 'G')\n",
            "('F', 'C', 'B')\n",
            "('F', 'C', 'A')\n",
            "('F', 'C', 'E')\n",
            "('F', 'C', 'D')\n",
            "('F', 'D', 'G')\n",
            "('F', 'D', 'B')\n",
            "('F', 'D', 'A')\n",
            "('F', 'D', 'E')\n",
            "('F', 'D', 'C')\n",
            "('A', 'G', 'B')\n",
            "('A', 'G', 'F')\n",
            "('A', 'G', 'E')\n",
            "('A', 'G', 'C')\n",
            "('A', 'G', 'D')\n",
            "('A', 'B', 'G')\n",
            "('A', 'B', 'F')\n",
            "('A', 'B', 'E')\n",
            "('A', 'B', 'C')\n",
            "('A', 'B', 'D')\n",
            "('A', 'F', 'G')\n",
            "('A', 'F', 'B')\n",
            "('A', 'F', 'E')\n",
            "('A', 'F', 'C')\n",
            "('A', 'F', 'D')\n",
            "('A', 'E', 'G')\n",
            "('A', 'E', 'B')\n",
            "('A', 'E', 'F')\n",
            "('A', 'E', 'C')\n",
            "('A', 'E', 'D')\n",
            "('A', 'C', 'G')\n",
            "('A', 'C', 'B')\n",
            "('A', 'C', 'F')\n",
            "('A', 'C', 'E')\n",
            "('A', 'C', 'D')\n",
            "('A', 'D', 'G')\n",
            "('A', 'D', 'B')\n",
            "('A', 'D', 'F')\n",
            "('A', 'D', 'E')\n",
            "('A', 'D', 'C')\n",
            "('E', 'G', 'B')\n",
            "('E', 'G', 'F')\n",
            "('E', 'G', 'A')\n",
            "('E', 'G', 'C')\n",
            "('E', 'G', 'D')\n",
            "('E', 'B', 'G')\n",
            "('E', 'B', 'F')\n",
            "('E', 'B', 'A')\n",
            "('E', 'B', 'C')\n",
            "('E', 'B', 'D')\n",
            "('E', 'F', 'G')\n",
            "('E', 'F', 'B')\n",
            "('E', 'F', 'A')\n",
            "('E', 'F', 'C')\n",
            "('E', 'F', 'D')\n",
            "('E', 'A', 'G')\n",
            "('E', 'A', 'B')\n",
            "('E', 'A', 'F')\n",
            "('E', 'A', 'C')\n",
            "('E', 'A', 'D')\n",
            "('E', 'C', 'G')\n",
            "('E', 'C', 'B')\n",
            "('E', 'C', 'F')\n",
            "('E', 'C', 'A')\n",
            "('E', 'C', 'D')\n",
            "('E', 'D', 'G')\n",
            "('E', 'D', 'B')\n",
            "('E', 'D', 'F')\n",
            "('E', 'D', 'A')\n",
            "('E', 'D', 'C')\n",
            "('C', 'G', 'B')\n",
            "('C', 'G', 'F')\n",
            "('C', 'G', 'A')\n",
            "('C', 'G', 'E')\n",
            "('C', 'G', 'D')\n",
            "('C', 'B', 'G')\n",
            "('C', 'B', 'F')\n",
            "('C', 'B', 'A')\n",
            "('C', 'B', 'E')\n",
            "('C', 'B', 'D')\n",
            "('C', 'F', 'G')\n",
            "('C', 'F', 'B')\n",
            "('C', 'F', 'A')\n",
            "('C', 'F', 'E')\n",
            "('C', 'F', 'D')\n",
            "('C', 'A', 'G')\n",
            "('C', 'A', 'B')\n",
            "('C', 'A', 'F')\n",
            "('C', 'A', 'E')\n",
            "('C', 'A', 'D')\n",
            "('C', 'E', 'G')\n",
            "('C', 'E', 'B')\n",
            "('C', 'E', 'F')\n",
            "('C', 'E', 'A')\n",
            "('C', 'E', 'D')\n",
            "('C', 'D', 'G')\n",
            "('C', 'D', 'B')\n",
            "('C', 'D', 'F')\n",
            "('C', 'D', 'A')\n",
            "('C', 'D', 'E')\n",
            "('D', 'G', 'B')\n",
            "('D', 'G', 'F')\n",
            "('D', 'G', 'A')\n",
            "('D', 'G', 'E')\n",
            "('D', 'G', 'C')\n",
            "('D', 'B', 'G')\n",
            "('D', 'B', 'F')\n",
            "('D', 'B', 'A')\n",
            "('D', 'B', 'E')\n",
            "('D', 'B', 'C')\n",
            "('D', 'F', 'G')\n",
            "('D', 'F', 'B')\n",
            "('D', 'F', 'A')\n",
            "('D', 'F', 'E')\n",
            "('D', 'F', 'C')\n",
            "('D', 'A', 'G')\n",
            "('D', 'A', 'B')\n",
            "('D', 'A', 'F')\n",
            "('D', 'A', 'E')\n",
            "('D', 'A', 'C')\n",
            "('D', 'E', 'G')\n",
            "('D', 'E', 'B')\n",
            "('D', 'E', 'F')\n",
            "('D', 'E', 'A')\n",
            "('D', 'E', 'C')\n",
            "('D', 'C', 'G')\n",
            "('D', 'C', 'B')\n",
            "('D', 'C', 'F')\n",
            "('D', 'C', 'A')\n",
            "('D', 'C', 'E')\n"
          ]
        }
      ]
    }
  ]
}