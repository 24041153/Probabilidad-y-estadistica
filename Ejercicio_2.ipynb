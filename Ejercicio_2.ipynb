{
  "nbformat": 4,
  "nbformat_minor": 0,
  "metadata": {
    "colab": {
      "provenance": [],
      "authorship_tag": "ABX9TyPx0YmnPoGPwGrpbpEQxmlI",
      "include_colab_link": true
    },
    "kernelspec": {
      "name": "python3",
      "display_name": "Python 3"
    },
    "language_info": {
      "name": "python"
    }
  },
  "cells": [
    {
      "cell_type": "markdown",
      "metadata": {
        "id": "view-in-github",
        "colab_type": "text"
      },
      "source": [
        "<a href=\"https://colab.research.google.com/github/24041153/Probabilidad-y-estadistica/blob/main/Ejercicio_2.ipynb\" target=\"_parent\"><img src=\"https://colab.research.google.com/assets/colab-badge.svg\" alt=\"Open In Colab\"/></a>"
      ]
    },
    {
      "cell_type": "code",
      "execution_count": 9,
      "metadata": {
        "colab": {
          "base_uri": "https://localhost:8080/"
        },
        "id": "SkdnJI3U2bg5",
        "outputId": "f0d5be61-baff-43e8-fbb3-3f5eac5fe91e"
      },
      "outputs": [
        {
          "output_type": "stream",
          "name": "stdout",
          "text": [
            "1. Probabilidad de exactamente 2 personas:  0.08422433748856832\n",
            "2. Probabilidad de más de 10 personas:  0.013695268598382881\n"
          ]
        }
      ],
      "source": [
        "# La solucion es tipo Poisson por que estamos modelando el número de eventos raros en un intervalo de tiempo fijo\n",
        "\n",
        "from scipy.stats import poisson\n",
        "\n",
        "media = 5  # media de 5 personas por día\n",
        "\n",
        "# 1. Probabilidad de exactamente 2 personas\n",
        "prob_a = poisson.pmf(2, media)\n",
        "print(\"1. Probabilidad de exactamente 2 personas: \", prob_a)\n",
        "\n",
        "# 2. Probabilidad de que x exceda 10\n",
        "prob_b = 1 - poisson.cdf(10, media)\n",
        "print(\"2. Probabilidad de más de 10 personas: \", prob_b)\n",
        "\n",
        "# Es poco probable ya que la probabilidad es menor al 5%,"
      ]
    },
    {
      "cell_type": "code",
      "source": [
        "# La solucion es tipo binomial por que cada ensayo tiene solo dos resultados posibles: defectuoso o no defectuoso\n",
        "from scipy.stats import binom\n",
        "\n",
        "n = 1000  # número de motores\n",
        "p = 0.001  # probabilidad de que un motor sea defectuoso\n",
        "\n",
        "# Probabilidad de que ninguno sea defectuoso\n",
        "prob_0 = binom.pmf(0, n, p)\n",
        "print(\"1. Probabilidad de 0 defectuosos: \", prob_0)\n",
        "\n",
        "# robabilidad de que tres sean defectuosos\n",
        "prob_3 = binom.pmf(3, n, p)\n",
        "print(\"2. Probabilidad de 3 defectuosos: \", prob_3)\n",
        "\n",
        "# Probabilidad de que cuatro sean defectuosos\n",
        "prob_4 = binom.pmf(4, n, p)\n",
        "print(\"3. Probabilidad de 4 defectuosos: \", prob_4)\n"
      ],
      "metadata": {
        "colab": {
          "base_uri": "https://localhost:8080/"
        },
        "id": "bS8ndcwY6HkP",
        "outputId": "3effced0-7a8f-4cfb-f311-a87660fd03dd"
      },
      "execution_count": 14,
      "outputs": [
        {
          "output_type": "stream",
          "name": "stdout",
          "text": [
            "1. Probabilidad de 0 defectuosos:  0.3676954247709639\n",
            "2. Probabilidad de 3 defectuosos:  0.061282509389840666\n",
            "3. Probabilidad de 4 defectuosos:  0.015289955420838651\n"
          ]
        }
      ]
    }
  ]
}